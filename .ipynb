#prject, to-do list for substructure construction


#display menu
def display_menu():
    print("Welcome to the To-Do List For Foundation Construction!")
    print("1. Add Task")
    print("2. Mark Task as Completed")
    print("3. List Tasks")
    print("4. Remove Task")
    print("5. Quit")

#user to add task,
def add_task(task_list):
    task_specification = input("Enter the task specification: ")
    task_list.append({"specification": task_specification, "completed": False})
    print(f"Task '{task_specification}' added.")

#user to mark a task as completed
def mark_task_completed(task_list):
    list_tasks(task_list)
    if task_list:
        task_index = input("Enter the task number to mark as completed: ")
        if task_index.isdigit():
            task_index = int(task_index) - 1
            if 0 <= task_index < len(task_list):
                if not task_list[task_index]["completed"]:
                    task_list[task_index]["completed"] = True
                    print(f"Task '{task_list[task_index]['specification']}' marked as completed.")
                else:
                    print("Task is already marked as completed.")
            else:
                print("Invalid task number.")
        else:
            print("Please enter a valid number.")

#tasks with completion status
def list_tasks(task_list):
    if not task_list:
        print("No tasks in the list.")
    else:
        for index, task in enumerate(task_list, start=1):
            status = "Completed" if task["completed"] else "Incomplete"
            print(f"{index}. {task['specification']} - {status}")

#prompts users to remove a task
def remove_task(task_list):
    list_tasks(task_list)
    if task_list:
        task_index = input("Enter the task number to remove: ")
        if task_index.isdigit():
            task_index = int(task_index) - 1
            if 0 <= task_index < len(task_list):
                removed_task = task_list.pop(task_index)
                print(f"Task '{removed_task['specification']}' removed.")
            else:
                print("Invalid task number.")
        else:
            print("Please enter a valid number.")

#main function
def main():
  #lists of various tasks
    task_list = [
        {"specification": "Site preparation, clearing the site and removing vegetation soil", "completed": False},
        {"specification": "Excavation of foundation trenches of up-to 4ft by 2 ft wide and blinding", "completed": False},
        {"specification": "Concrete for footings ratio 1.3.6", "completed": False},
        {"specification": "Foundation walling", "completed": False},
        {"specification": "Ground beam", "completed": False},
        {"specification": "Backfill", "completed": False},
        {"specification": "Hardcore packing", "completed": False},
        {"specification": "Murram blinding", "completed": False},
        {"specification": "Laying BRC mesh", "completed": False},
        {"specification": "Foundation slab ratio 1.2.4", "completed": False}
    ]

    while True:
        display_menu()
        choice = input("Choose an option: ")

        if choice == "1":
            add_task(task_list)
        elif choice == "2":
            mark_task_completed(task_list)
        elif choice == "3":
            list_tasks(task_list)
        elif choice == "4":
            remove_task(task_list)
        elif choice == "5":
            print("All Best! GOODBYE!!")
            break
        else:
            print("Invalid choice. Please try again.")

if __name__ == "__main__":
    main()